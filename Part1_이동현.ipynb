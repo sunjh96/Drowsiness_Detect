{
  "nbformat": 4,
  "nbformat_minor": 0,
  "metadata": {
    "colab": {
      "name": "Part1_이동현",
      "provenance": [],
      "collapsed_sections": []
    },
    "kernelspec": {
      "name": "python3",
      "display_name": "Python 3"
    },
    "language_info": {
      "name": "python"
    }
  },
  "cells": [
    {
      "cell_type": "markdown",
      "metadata": {
        "id": "2gSmFqDF0qOb"
      },
      "source": [
        "#랜드마크 가져오기..\n",
        "\n",
        "- 뭘 바꿔야할지 모르겟네.."
      ]
    },
    {
      "cell_type": "code",
      "metadata": {
        "id": "Ecn26_vPe-jY"
      },
      "source": [
        "import cv2\n",
        "import dlib\n",
        "\n",
        "def getLandmarks(im):\n",
        "    #크기조정 (나중에 해보면서 다시 조정해야할 것 같습니다)\n",
        "    imSmall = cv2.resize(im, None, \n",
        "                            fx = 1.0, \n",
        "                            fy = 1.0, \n",
        "                            interpolation = cv2.INTER_LINEAR)   #쌍선형 보간법\n",
        "\n",
        "    #얼굴 인식을 먼저하고.. rects에 사각형의 꼭짓점 좌표가 저장됨..\n",
        "    rects = detector(imSmall, 0)\n",
        "    if len(rects) == 0:\n",
        "        return 0\n",
        "\n",
        "    #dlib용 사각형으로 변환 및 크기 조정.. (이것도 다시 조정 필요..)\n",
        "    newRect = dlib.rectangle(int(rects[0].left()),\n",
        "                            int(rects[0].top()),\n",
        "                            int(rects[0].right()),\n",
        "                            int(rects[0].bottom()))\n",
        "\n",
        "    #랜드마크 포인트 반환..\n",
        "    points = []\n",
        "    [points.append((p.x, p.y)) for p in predictor(im, newRect).parts()]\n",
        "    return points"
      ],
      "execution_count": null,
      "outputs": []
    },
    {
      "cell_type": "markdown",
      "metadata": {
        "id": "EVdPBw9w4J0F"
      },
      "source": [
        "#EAR값 구하기\n",
        "\n",
        "- 눈의 크기를 점수로 나타냄.."
      ]
    },
    {
      "cell_type": "code",
      "metadata": {
        "id": "IbluBrZJ4N0W"
      },
      "source": [
        "#EAR값 구하는 함수..\n",
        "def eye_aspect_ratio(eye):\n",
        "    A = dist.euclidean(eye[1], eye[5])\n",
        "    B = dist.euclidean(eye[2], eye[4])\n",
        "    C = dist.euclidean(eye[0], eye[3])\n",
        "    ear = (A + B) / (2.0 * C)\n",
        "\n",
        "    return ear"
      ],
      "execution_count": null,
      "outputs": []
    },
    {
      "cell_type": "markdown",
      "metadata": {
        "id": "oI3YpsB836H2"
      },
      "source": [
        "#checkEyeStatus\n",
        "\n",
        "- 눈을 떳는지 안떳는지 확인.."
      ]
    },
    {
      "cell_type": "markdown",
      "metadata": {
        "id": "z0Q4jEhf4ZBV"
      },
      "source": [
        "leftEyeIndex = [36, 37, 38, 39, 40, 41]\n",
        "\n",
        "rightEyeIndex = [42, 43, 44, 45, 46, 47]"
      ]
    },
    {
      "cell_type": "code",
      "metadata": {
        "id": "WTUr7REsfLLV"
      },
      "source": [
        "def checkEyeStatus(landmarks):\n",
        "    mask = np.zeros(frame.shape[:2], dtype = np.float32)\n",
        "    \n",
        "    #양쪽 눈의 좌표를 가져와서 모양을 따온다..\n",
        "    #fillConvexPoly : 주어진 점으로 이루어진 볼록다각형 만들어줌..\n",
        "    hullLeftEye = []\n",
        "    for i in range(0, len(leftEyeIndex)):\n",
        "        hullLeftEye.append((landmarks[leftEyeIndex[i]][0], landmarks[leftEyeIndex[i]][1]))\n",
        "    cv2.fillConvexPoly(mask, np.int32(hullLeftEye), 255)\n",
        "\n",
        "    hullRightEye = []\n",
        "    for i in range(0, len(rightEyeIndex)):\n",
        "        hullRightEye.append((landmarks[rightEyeIndex[i]][0], landmarks[rightEyeIndex[i]][1]))\n",
        "    cv2.fillConvexPoly(mask, np.int32(hullRightEye), 255)\n",
        "\n",
        "\n",
        "    #EAR값 구하기..\n",
        "    leftEAR = eye_aspect_ratio(hullLeftEye)\n",
        "    rightEAR = eye_aspect_ratio(hullRightEye)\n",
        "\n",
        "    ear = (leftEAR + rightEAR) / 2.0\n",
        "    \n",
        "    \n",
        "    eyeStatus = 1          # 1 -> Open, 0 -> closed\n",
        "    #thresh = 0.3\n",
        "    if (ear < thresh):\n",
        "        eyeStatus = 0\n",
        "\n",
        "    return eyeStatus"
      ],
      "execution_count": null,
      "outputs": []
    },
    {
      "cell_type": "markdown",
      "metadata": {
        "id": "n8uth_zK4vOa"
      },
      "source": [
        "#checkDrowsy()\n",
        "\n",
        "- 조는 시간을 확인.."
      ]
    },
    {
      "cell_type": "markdown",
      "metadata": {
        "id": "NIMARJss6Hy1"
      },
      "source": [
        "- 메인함수에 시간을 재고 있는 리스트가 필요할 것 같습니다..\n",
        "\n",
        "\n",
        "- 눈 상태가 감겨있으면\n",
        "    - 시간을 계속 잰다\n",
        "- 그렇지 않으면\n",
        "    - 시간을 초기화 한다.."
      ]
    },
    {
      "cell_type": "code",
      "metadata": {
        "id": "E9JH8MndfLH0"
      },
      "source": [
        "import time\n",
        "\n",
        "#누적되는 시간을 저장할 리스트\n",
        "#메인함수에서 지정..\n",
        "t = []\n",
        "\n",
        "#현재 눈 상태와 시간을 저장한 리스트를 받아옴\n",
        "def checkDrowsy(eyeStatus, t):\n",
        "    drowsy = 0\n",
        "\n",
        "    if eyeStatus:       #눈 뜬상태\n",
        "        t = []      #시간 초기화\n",
        "\n",
        "    else:   #눈을 감았을 때만..\n",
        "        t.append(time.time())     #현재시간을 추가..\n",
        "\n",
        "        #drowsyLimit : 임의로 정해야하는 졸음 판별 임계값\n",
        "        #차가 달리는 속도에 따라서 임계값을 바꿔야할지는 고민이 필요할 것 같아요..\n",
        "        if t[-1] - t[0] > drowsyLimit:\n",
        "            drowsy = 1\n",
        "    \n",
        "    return drowsy   #졸음 : 1,  아님 : 0"
      ],
      "execution_count": null,
      "outputs": []
    },
    {
      "cell_type": "code",
      "metadata": {
        "id": "5ug91c7L6jSV"
      },
      "source": [
        ""
      ],
      "execution_count": null,
      "outputs": []
    }
  ]
}